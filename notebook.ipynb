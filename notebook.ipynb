{
 "cells": [
  {
   "cell_type": "code",
   "execution_count": 1,
   "metadata": {},
   "outputs": [],
   "source": [
    "from tensorflow import keras\n",
    "from tensorflow.keras import layers\n",
    "from keras.utils import np_utils\n",
    "import tensorflow\n",
    "import pandas as pd\n",
    "from sklearn.model_selection import train_test_split\n",
    "from tensorflow.keras.callbacks import EarlyStopping\n",
    "tensorflow.config.run_functions_eagerly(True)"
   ]
  },
  {
   "cell_type": "code",
   "execution_count": 2,
   "metadata": {},
   "outputs": [
    {
     "ename": "FileNotFoundError",
     "evalue": "[Errno 2] No such file or directory: './data/train.csv'",
     "output_type": "error",
     "traceback": [
      "\u001b[1;31m---------------------------------------------------------------------------\u001b[0m",
      "\u001b[1;31mFileNotFoundError\u001b[0m                         Traceback (most recent call last)",
      "\u001b[1;32m~\\AppData\\Local\\Temp\\ipykernel_7680\\2487753640.py\u001b[0m in \u001b[0;36m<module>\u001b[1;34m\u001b[0m\n\u001b[1;32m----> 1\u001b[1;33m \u001b[0mtrain\u001b[0m \u001b[1;33m=\u001b[0m \u001b[0mpd\u001b[0m\u001b[1;33m.\u001b[0m\u001b[0mread_csv\u001b[0m\u001b[1;33m(\u001b[0m\u001b[1;34m\"./data/train.csv\"\u001b[0m\u001b[1;33m)\u001b[0m\u001b[1;33m\u001b[0m\u001b[1;33m\u001b[0m\u001b[0m\n\u001b[0m\u001b[0;32m      2\u001b[0m \u001b[0mvalidation\u001b[0m \u001b[1;33m=\u001b[0m \u001b[0mpd\u001b[0m\u001b[1;33m.\u001b[0m\u001b[0mread_csv\u001b[0m\u001b[1;33m(\u001b[0m\u001b[1;34m\"./data/test.csv\"\u001b[0m\u001b[1;33m)\u001b[0m\u001b[1;33m\u001b[0m\u001b[1;33m\u001b[0m\u001b[0m\n",
      "\u001b[1;32mc:\\dev\\computer_vision\\env\\lib\\site-packages\\pandas\\util\\_decorators.py\u001b[0m in \u001b[0;36mwrapper\u001b[1;34m(*args, **kwargs)\u001b[0m\n\u001b[0;32m    309\u001b[0m                     \u001b[0mstacklevel\u001b[0m\u001b[1;33m=\u001b[0m\u001b[0mstacklevel\u001b[0m\u001b[1;33m,\u001b[0m\u001b[1;33m\u001b[0m\u001b[1;33m\u001b[0m\u001b[0m\n\u001b[0;32m    310\u001b[0m                 )\n\u001b[1;32m--> 311\u001b[1;33m             \u001b[1;32mreturn\u001b[0m \u001b[0mfunc\u001b[0m\u001b[1;33m(\u001b[0m\u001b[1;33m*\u001b[0m\u001b[0margs\u001b[0m\u001b[1;33m,\u001b[0m \u001b[1;33m**\u001b[0m\u001b[0mkwargs\u001b[0m\u001b[1;33m)\u001b[0m\u001b[1;33m\u001b[0m\u001b[1;33m\u001b[0m\u001b[0m\n\u001b[0m\u001b[0;32m    312\u001b[0m \u001b[1;33m\u001b[0m\u001b[0m\n\u001b[0;32m    313\u001b[0m         \u001b[1;32mreturn\u001b[0m \u001b[0mwrapper\u001b[0m\u001b[1;33m\u001b[0m\u001b[1;33m\u001b[0m\u001b[0m\n",
      "\u001b[1;32mc:\\dev\\computer_vision\\env\\lib\\site-packages\\pandas\\io\\parsers\\readers.py\u001b[0m in \u001b[0;36mread_csv\u001b[1;34m(filepath_or_buffer, sep, delimiter, header, names, index_col, usecols, squeeze, prefix, mangle_dupe_cols, dtype, engine, converters, true_values, false_values, skipinitialspace, skiprows, skipfooter, nrows, na_values, keep_default_na, na_filter, verbose, skip_blank_lines, parse_dates, infer_datetime_format, keep_date_col, date_parser, dayfirst, cache_dates, iterator, chunksize, compression, thousands, decimal, lineterminator, quotechar, quoting, doublequote, escapechar, comment, encoding, encoding_errors, dialect, error_bad_lines, warn_bad_lines, on_bad_lines, delim_whitespace, low_memory, memory_map, float_precision, storage_options)\u001b[0m\n\u001b[0;32m    584\u001b[0m     \u001b[0mkwds\u001b[0m\u001b[1;33m.\u001b[0m\u001b[0mupdate\u001b[0m\u001b[1;33m(\u001b[0m\u001b[0mkwds_defaults\u001b[0m\u001b[1;33m)\u001b[0m\u001b[1;33m\u001b[0m\u001b[1;33m\u001b[0m\u001b[0m\n\u001b[0;32m    585\u001b[0m \u001b[1;33m\u001b[0m\u001b[0m\n\u001b[1;32m--> 586\u001b[1;33m     \u001b[1;32mreturn\u001b[0m \u001b[0m_read\u001b[0m\u001b[1;33m(\u001b[0m\u001b[0mfilepath_or_buffer\u001b[0m\u001b[1;33m,\u001b[0m \u001b[0mkwds\u001b[0m\u001b[1;33m)\u001b[0m\u001b[1;33m\u001b[0m\u001b[1;33m\u001b[0m\u001b[0m\n\u001b[0m\u001b[0;32m    587\u001b[0m \u001b[1;33m\u001b[0m\u001b[0m\n\u001b[0;32m    588\u001b[0m \u001b[1;33m\u001b[0m\u001b[0m\n",
      "\u001b[1;32mc:\\dev\\computer_vision\\env\\lib\\site-packages\\pandas\\io\\parsers\\readers.py\u001b[0m in \u001b[0;36m_read\u001b[1;34m(filepath_or_buffer, kwds)\u001b[0m\n\u001b[0;32m    480\u001b[0m \u001b[1;33m\u001b[0m\u001b[0m\n\u001b[0;32m    481\u001b[0m     \u001b[1;31m# Create the parser.\u001b[0m\u001b[1;33m\u001b[0m\u001b[1;33m\u001b[0m\u001b[1;33m\u001b[0m\u001b[0m\n\u001b[1;32m--> 482\u001b[1;33m     \u001b[0mparser\u001b[0m \u001b[1;33m=\u001b[0m \u001b[0mTextFileReader\u001b[0m\u001b[1;33m(\u001b[0m\u001b[0mfilepath_or_buffer\u001b[0m\u001b[1;33m,\u001b[0m \u001b[1;33m**\u001b[0m\u001b[0mkwds\u001b[0m\u001b[1;33m)\u001b[0m\u001b[1;33m\u001b[0m\u001b[1;33m\u001b[0m\u001b[0m\n\u001b[0m\u001b[0;32m    483\u001b[0m \u001b[1;33m\u001b[0m\u001b[0m\n\u001b[0;32m    484\u001b[0m     \u001b[1;32mif\u001b[0m \u001b[0mchunksize\u001b[0m \u001b[1;32mor\u001b[0m \u001b[0miterator\u001b[0m\u001b[1;33m:\u001b[0m\u001b[1;33m\u001b[0m\u001b[1;33m\u001b[0m\u001b[0m\n",
      "\u001b[1;32mc:\\dev\\computer_vision\\env\\lib\\site-packages\\pandas\\io\\parsers\\readers.py\u001b[0m in \u001b[0;36m__init__\u001b[1;34m(self, f, engine, **kwds)\u001b[0m\n\u001b[0;32m    809\u001b[0m             \u001b[0mself\u001b[0m\u001b[1;33m.\u001b[0m\u001b[0moptions\u001b[0m\u001b[1;33m[\u001b[0m\u001b[1;34m\"has_index_names\"\u001b[0m\u001b[1;33m]\u001b[0m \u001b[1;33m=\u001b[0m \u001b[0mkwds\u001b[0m\u001b[1;33m[\u001b[0m\u001b[1;34m\"has_index_names\"\u001b[0m\u001b[1;33m]\u001b[0m\u001b[1;33m\u001b[0m\u001b[1;33m\u001b[0m\u001b[0m\n\u001b[0;32m    810\u001b[0m \u001b[1;33m\u001b[0m\u001b[0m\n\u001b[1;32m--> 811\u001b[1;33m         \u001b[0mself\u001b[0m\u001b[1;33m.\u001b[0m\u001b[0m_engine\u001b[0m \u001b[1;33m=\u001b[0m \u001b[0mself\u001b[0m\u001b[1;33m.\u001b[0m\u001b[0m_make_engine\u001b[0m\u001b[1;33m(\u001b[0m\u001b[0mself\u001b[0m\u001b[1;33m.\u001b[0m\u001b[0mengine\u001b[0m\u001b[1;33m)\u001b[0m\u001b[1;33m\u001b[0m\u001b[1;33m\u001b[0m\u001b[0m\n\u001b[0m\u001b[0;32m    812\u001b[0m \u001b[1;33m\u001b[0m\u001b[0m\n\u001b[0;32m    813\u001b[0m     \u001b[1;32mdef\u001b[0m \u001b[0mclose\u001b[0m\u001b[1;33m(\u001b[0m\u001b[0mself\u001b[0m\u001b[1;33m)\u001b[0m\u001b[1;33m:\u001b[0m\u001b[1;33m\u001b[0m\u001b[1;33m\u001b[0m\u001b[0m\n",
      "\u001b[1;32mc:\\dev\\computer_vision\\env\\lib\\site-packages\\pandas\\io\\parsers\\readers.py\u001b[0m in \u001b[0;36m_make_engine\u001b[1;34m(self, engine)\u001b[0m\n\u001b[0;32m   1038\u001b[0m             )\n\u001b[0;32m   1039\u001b[0m         \u001b[1;31m# error: Too many arguments for \"ParserBase\"\u001b[0m\u001b[1;33m\u001b[0m\u001b[1;33m\u001b[0m\u001b[1;33m\u001b[0m\u001b[0m\n\u001b[1;32m-> 1040\u001b[1;33m         \u001b[1;32mreturn\u001b[0m \u001b[0mmapping\u001b[0m\u001b[1;33m[\u001b[0m\u001b[0mengine\u001b[0m\u001b[1;33m]\u001b[0m\u001b[1;33m(\u001b[0m\u001b[0mself\u001b[0m\u001b[1;33m.\u001b[0m\u001b[0mf\u001b[0m\u001b[1;33m,\u001b[0m \u001b[1;33m**\u001b[0m\u001b[0mself\u001b[0m\u001b[1;33m.\u001b[0m\u001b[0moptions\u001b[0m\u001b[1;33m)\u001b[0m  \u001b[1;31m# type: ignore[call-arg]\u001b[0m\u001b[1;33m\u001b[0m\u001b[1;33m\u001b[0m\u001b[0m\n\u001b[0m\u001b[0;32m   1041\u001b[0m \u001b[1;33m\u001b[0m\u001b[0m\n\u001b[0;32m   1042\u001b[0m     \u001b[1;32mdef\u001b[0m \u001b[0m_failover_to_python\u001b[0m\u001b[1;33m(\u001b[0m\u001b[0mself\u001b[0m\u001b[1;33m)\u001b[0m\u001b[1;33m:\u001b[0m\u001b[1;33m\u001b[0m\u001b[1;33m\u001b[0m\u001b[0m\n",
      "\u001b[1;32mc:\\dev\\computer_vision\\env\\lib\\site-packages\\pandas\\io\\parsers\\c_parser_wrapper.py\u001b[0m in \u001b[0;36m__init__\u001b[1;34m(self, src, **kwds)\u001b[0m\n\u001b[0;32m     49\u001b[0m \u001b[1;33m\u001b[0m\u001b[0m\n\u001b[0;32m     50\u001b[0m         \u001b[1;31m# open handles\u001b[0m\u001b[1;33m\u001b[0m\u001b[1;33m\u001b[0m\u001b[1;33m\u001b[0m\u001b[0m\n\u001b[1;32m---> 51\u001b[1;33m         \u001b[0mself\u001b[0m\u001b[1;33m.\u001b[0m\u001b[0m_open_handles\u001b[0m\u001b[1;33m(\u001b[0m\u001b[0msrc\u001b[0m\u001b[1;33m,\u001b[0m \u001b[0mkwds\u001b[0m\u001b[1;33m)\u001b[0m\u001b[1;33m\u001b[0m\u001b[1;33m\u001b[0m\u001b[0m\n\u001b[0m\u001b[0;32m     52\u001b[0m         \u001b[1;32massert\u001b[0m \u001b[0mself\u001b[0m\u001b[1;33m.\u001b[0m\u001b[0mhandles\u001b[0m \u001b[1;32mis\u001b[0m \u001b[1;32mnot\u001b[0m \u001b[1;32mNone\u001b[0m\u001b[1;33m\u001b[0m\u001b[1;33m\u001b[0m\u001b[0m\n\u001b[0;32m     53\u001b[0m \u001b[1;33m\u001b[0m\u001b[0m\n",
      "\u001b[1;32mc:\\dev\\computer_vision\\env\\lib\\site-packages\\pandas\\io\\parsers\\base_parser.py\u001b[0m in \u001b[0;36m_open_handles\u001b[1;34m(self, src, kwds)\u001b[0m\n\u001b[0;32m    227\u001b[0m             \u001b[0mmemory_map\u001b[0m\u001b[1;33m=\u001b[0m\u001b[0mkwds\u001b[0m\u001b[1;33m.\u001b[0m\u001b[0mget\u001b[0m\u001b[1;33m(\u001b[0m\u001b[1;34m\"memory_map\"\u001b[0m\u001b[1;33m,\u001b[0m \u001b[1;32mFalse\u001b[0m\u001b[1;33m)\u001b[0m\u001b[1;33m,\u001b[0m\u001b[1;33m\u001b[0m\u001b[1;33m\u001b[0m\u001b[0m\n\u001b[0;32m    228\u001b[0m             \u001b[0mstorage_options\u001b[0m\u001b[1;33m=\u001b[0m\u001b[0mkwds\u001b[0m\u001b[1;33m.\u001b[0m\u001b[0mget\u001b[0m\u001b[1;33m(\u001b[0m\u001b[1;34m\"storage_options\"\u001b[0m\u001b[1;33m,\u001b[0m \u001b[1;32mNone\u001b[0m\u001b[1;33m)\u001b[0m\u001b[1;33m,\u001b[0m\u001b[1;33m\u001b[0m\u001b[1;33m\u001b[0m\u001b[0m\n\u001b[1;32m--> 229\u001b[1;33m             \u001b[0merrors\u001b[0m\u001b[1;33m=\u001b[0m\u001b[0mkwds\u001b[0m\u001b[1;33m.\u001b[0m\u001b[0mget\u001b[0m\u001b[1;33m(\u001b[0m\u001b[1;34m\"encoding_errors\"\u001b[0m\u001b[1;33m,\u001b[0m \u001b[1;34m\"strict\"\u001b[0m\u001b[1;33m)\u001b[0m\u001b[1;33m,\u001b[0m\u001b[1;33m\u001b[0m\u001b[1;33m\u001b[0m\u001b[0m\n\u001b[0m\u001b[0;32m    230\u001b[0m         )\n\u001b[0;32m    231\u001b[0m \u001b[1;33m\u001b[0m\u001b[0m\n",
      "\u001b[1;32mc:\\dev\\computer_vision\\env\\lib\\site-packages\\pandas\\io\\common.py\u001b[0m in \u001b[0;36mget_handle\u001b[1;34m(path_or_buf, mode, encoding, compression, memory_map, is_text, errors, storage_options)\u001b[0m\n\u001b[0;32m    705\u001b[0m                 \u001b[0mencoding\u001b[0m\u001b[1;33m=\u001b[0m\u001b[0mioargs\u001b[0m\u001b[1;33m.\u001b[0m\u001b[0mencoding\u001b[0m\u001b[1;33m,\u001b[0m\u001b[1;33m\u001b[0m\u001b[1;33m\u001b[0m\u001b[0m\n\u001b[0;32m    706\u001b[0m                 \u001b[0merrors\u001b[0m\u001b[1;33m=\u001b[0m\u001b[0merrors\u001b[0m\u001b[1;33m,\u001b[0m\u001b[1;33m\u001b[0m\u001b[1;33m\u001b[0m\u001b[0m\n\u001b[1;32m--> 707\u001b[1;33m                 \u001b[0mnewline\u001b[0m\u001b[1;33m=\u001b[0m\u001b[1;34m\"\"\u001b[0m\u001b[1;33m,\u001b[0m\u001b[1;33m\u001b[0m\u001b[1;33m\u001b[0m\u001b[0m\n\u001b[0m\u001b[0;32m    708\u001b[0m             )\n\u001b[0;32m    709\u001b[0m         \u001b[1;32melse\u001b[0m\u001b[1;33m:\u001b[0m\u001b[1;33m\u001b[0m\u001b[1;33m\u001b[0m\u001b[0m\n",
      "\u001b[1;31mFileNotFoundError\u001b[0m: [Errno 2] No such file or directory: './data/train.csv'"
     ]
    }
   ],
   "source": [
    "train = pd.read_csv(\"./data/train.csv\")\n",
    "validation = pd.read_csv(\"./data/test.csv\")"
   ]
  },
  {
   "cell_type": "code",
   "execution_count": null,
   "metadata": {},
   "outputs": [],
   "source": [
    "X = train.drop(\"label\", axis=1)\n",
    "y = train[\"label\"]\n",
    "\n",
    "X_train, X_val, y_train, y_val = train_test_split(X,y,random_state=1, train_size=0.8)"
   ]
  },
  {
   "cell_type": "code",
   "execution_count": null,
   "metadata": {},
   "outputs": [],
   "source": [
    "Y_train = np_utils.to_categorical(y_train, 10)\n",
    "Y_val = np_utils.to_categorical(y_val, 10)"
   ]
  },
  {
   "cell_type": "code",
   "execution_count": null,
   "metadata": {},
   "outputs": [],
   "source": [
    "from tensorflow.keras.layers import Dropout\n",
    "\n",
    "model = keras.Sequential([\n",
    "    layers.Dense(units=256, activation=\"relu\", input_shape=[len(X_train.columns)]),\n",
    "    layers.Dropout(rate=0.3),\n",
    "    layers.BatchNormalization(),\n",
    "    layers.Dense(units=256, activation=\"relu\"),\n",
    "    layers.Dropout(rate=0.3),\n",
    "    layers.BatchNormalization(),\n",
    "    layers.Dense(units=128, activation=\"relu\"),\n",
    "    layers.Dropout(rate=0.3),\n",
    "    layers.BatchNormalization(),\n",
    "    layers.Dense(units=128, activation=\"relu\"),\n",
    "    layers.Dropout(rate=0.3),\n",
    "    layers.BatchNormalization(),\n",
    "    layers.Dense(units=10, activation=\"softmax\")\n",
    "])\n",
    "model.compile(loss=\"categorical_crossentropy\", optimizer=\"adam\", metrics=[\"acc\"])"
   ]
  },
  {
   "cell_type": "code",
   "execution_count": null,
   "metadata": {},
   "outputs": [],
   "source": [
    "early_stopping = EarlyStopping(\n",
    "    min_delta = 0.001,\n",
    "    patience = 20,\n",
    "    restore_best_weights=True\n",
    ")"
   ]
  },
  {
   "cell_type": "code",
   "execution_count": null,
   "metadata": {},
   "outputs": [
    {
     "name": "stdout",
     "output_type": "stream",
     "text": [
      "Training X (33600, 784)\n",
      "Training Y (33600, 10)\n",
      "Validation X (8400, 784)\n",
      "Validation Y (8400, 10)\n"
     ]
    }
   ],
   "source": [
    "print(\"Training X\", X_train.shape)\n",
    "print(\"Training Y\", Y_train.shape)\n",
    "print(\"Validation X\", X_val.shape)\n",
    "print(\"Validation Y\", Y_val.shape)"
   ]
  },
  {
   "cell_type": "code",
   "execution_count": null,
   "metadata": {},
   "outputs": [
    {
     "name": "stdout",
     "output_type": "stream",
     "text": [
      "Epoch 1/500\n",
      "  2/263 [..............................] - ETA: 14s - loss: 3.0050 - acc: 0.1172"
     ]
    },
    {
     "name": "stderr",
     "output_type": "stream",
     "text": [
      "c:\\dev\\computer_vision\\env\\lib\\site-packages\\tensorflow\\python\\data\\ops\\dataset_ops.py:4527: UserWarning: Even though the `tf.config.experimental_run_functions_eagerly` option is set, this option does not apply to tf.data functions. To force eager execution of tf.data functions, please use `tf.data.experimental.enable_debug_mode()`.\n",
      "  \"Even though the `tf.config.experimental_run_functions_eagerly` \"\n"
     ]
    },
    {
     "name": "stdout",
     "output_type": "stream",
     "text": [
      "263/263 [==============================] - ETA: 0s - loss: 0.5022 - acc: 0.8422"
     ]
    },
    {
     "name": "stderr",
     "output_type": "stream",
     "text": [
      "c:\\dev\\computer_vision\\env\\lib\\site-packages\\tensorflow\\python\\data\\ops\\dataset_ops.py:4527: UserWarning: Even though the `tf.config.experimental_run_functions_eagerly` option is set, this option does not apply to tf.data functions. To force eager execution of tf.data functions, please use `tf.data.experimental.enable_debug_mode()`.\n",
      "  \"Even though the `tf.config.experimental_run_functions_eagerly` \"\n"
     ]
    },
    {
     "name": "stdout",
     "output_type": "stream",
     "text": [
      "263/263 [==============================] - 17s 63ms/step - loss: 0.5022 - acc: 0.8422 - val_loss: 0.1625 - val_acc: 0.9508\n",
      "Epoch 2/500\n",
      "263/263 [==============================] - 17s 63ms/step - loss: 0.2068 - acc: 0.9375 - val_loss: 0.1278 - val_acc: 0.9627\n",
      "Epoch 3/500\n",
      "263/263 [==============================] - 17s 63ms/step - loss: 0.1599 - acc: 0.9506 - val_loss: 0.1081 - val_acc: 0.9673\n",
      "Epoch 4/500\n",
      "263/263 [==============================] - 17s 63ms/step - loss: 0.1328 - acc: 0.9594 - val_loss: 0.1031 - val_acc: 0.9695\n",
      "Epoch 5/500\n",
      "263/263 [==============================] - 17s 63ms/step - loss: 0.1092 - acc: 0.9665 - val_loss: 0.0873 - val_acc: 0.9737\n",
      "Epoch 6/500\n",
      "263/263 [==============================] - 17s 63ms/step - loss: 0.1023 - acc: 0.9670 - val_loss: 0.0931 - val_acc: 0.9748\n",
      "Epoch 7/500\n",
      "263/263 [==============================] - 17s 64ms/step - loss: 0.0961 - acc: 0.9696 - val_loss: 0.0944 - val_acc: 0.9732\n",
      "Epoch 8/500\n",
      "263/263 [==============================] - 17s 64ms/step - loss: 0.0832 - acc: 0.9740 - val_loss: 0.0859 - val_acc: 0.9756\n",
      "Epoch 9/500\n",
      "263/263 [==============================] - 19s 71ms/step - loss: 0.0734 - acc: 0.9772 - val_loss: 0.0886 - val_acc: 0.9757\n",
      "Epoch 10/500\n",
      "263/263 [==============================] - 27s 104ms/step - loss: 0.0728 - acc: 0.9775 - val_loss: 0.0812 - val_acc: 0.9770\n",
      "Epoch 11/500\n",
      "263/263 [==============================] - 27s 104ms/step - loss: 0.0627 - acc: 0.9803 - val_loss: 0.0843 - val_acc: 0.9760\n",
      "Epoch 12/500\n",
      "263/263 [==============================] - 26s 99ms/step - loss: 0.0582 - acc: 0.9815 - val_loss: 0.0828 - val_acc: 0.9768\n",
      "Epoch 13/500\n",
      "263/263 [==============================] - 24s 91ms/step - loss: 0.0555 - acc: 0.9821 - val_loss: 0.0845 - val_acc: 0.9773\n",
      "Epoch 14/500\n",
      "263/263 [==============================] - 27s 103ms/step - loss: 0.0580 - acc: 0.9810 - val_loss: 0.0787 - val_acc: 0.9807\n",
      "Epoch 15/500\n",
      "263/263 [==============================] - 30s 116ms/step - loss: 0.0503 - acc: 0.9842 - val_loss: 0.0837 - val_acc: 0.9781\n",
      "Epoch 16/500\n",
      "263/263 [==============================] - 31s 116ms/step - loss: 0.0502 - acc: 0.9840 - val_loss: 0.0904 - val_acc: 0.9762\n",
      "Epoch 17/500\n",
      "263/263 [==============================] - 32s 121ms/step - loss: 0.0482 - acc: 0.9851 - val_loss: 0.0807 - val_acc: 0.9788\n",
      "Epoch 18/500\n",
      "263/263 [==============================] - 33s 127ms/step - loss: 0.0449 - acc: 0.9852 - val_loss: 0.0759 - val_acc: 0.9799\n",
      "Epoch 19/500\n",
      "263/263 [==============================] - 34s 129ms/step - loss: 0.0446 - acc: 0.9851 - val_loss: 0.1070 - val_acc: 0.9780\n",
      "Epoch 20/500\n",
      "263/263 [==============================] - 32s 121ms/step - loss: 0.0474 - acc: 0.9842 - val_loss: 0.0751 - val_acc: 0.9788\n",
      "Epoch 21/500\n",
      "263/263 [==============================] - 32s 123ms/step - loss: 0.0435 - acc: 0.9860 - val_loss: 0.0822 - val_acc: 0.9786\n",
      "Epoch 22/500\n",
      "263/263 [==============================] - 34s 129ms/step - loss: 0.0383 - acc: 0.9872 - val_loss: 0.0744 - val_acc: 0.9796\n",
      "Epoch 23/500\n",
      "263/263 [==============================] - 32s 123ms/step - loss: 0.0365 - acc: 0.9879 - val_loss: 0.0751 - val_acc: 0.9801\n",
      "Epoch 24/500\n",
      "263/263 [==============================] - 32s 122ms/step - loss: 0.0411 - acc: 0.9865 - val_loss: 0.0805 - val_acc: 0.9804\n",
      "Epoch 25/500\n",
      "263/263 [==============================] - 33s 126ms/step - loss: 0.0323 - acc: 0.9899 - val_loss: 0.0763 - val_acc: 0.9810\n",
      "Epoch 26/500\n",
      "263/263 [==============================] - 32s 122ms/step - loss: 0.0382 - acc: 0.9879 - val_loss: 0.0901 - val_acc: 0.9786\n",
      "Epoch 27/500\n",
      "263/263 [==============================] - 31s 119ms/step - loss: 0.0347 - acc: 0.9890 - val_loss: 0.0914 - val_acc: 0.9776\n",
      "Epoch 28/500\n",
      "263/263 [==============================] - 31s 119ms/step - loss: 0.0303 - acc: 0.9905 - val_loss: 0.0863 - val_acc: 0.9777\n",
      "Epoch 29/500\n",
      "263/263 [==============================] - 34s 131ms/step - loss: 0.0347 - acc: 0.9886 - val_loss: 0.0804 - val_acc: 0.9801\n",
      "Epoch 30/500\n",
      "263/263 [==============================] - 32s 123ms/step - loss: 0.0333 - acc: 0.9894 - val_loss: 0.0920 - val_acc: 0.9769\n",
      "Epoch 31/500\n",
      "263/263 [==============================] - 33s 125ms/step - loss: 0.0294 - acc: 0.9901 - val_loss: 0.0935 - val_acc: 0.9773\n",
      "Epoch 32/500\n",
      "263/263 [==============================] - 33s 127ms/step - loss: 0.0344 - acc: 0.9886 - val_loss: 0.0947 - val_acc: 0.9779\n",
      "Epoch 33/500\n",
      "263/263 [==============================] - 32s 122ms/step - loss: 0.0322 - acc: 0.9899 - val_loss: 0.0815 - val_acc: 0.9819\n",
      "Epoch 34/500\n",
      "263/263 [==============================] - 33s 124ms/step - loss: 0.0274 - acc: 0.9907 - val_loss: 0.0824 - val_acc: 0.9800\n",
      "Epoch 35/500\n",
      "263/263 [==============================] - 33s 126ms/step - loss: 0.0260 - acc: 0.9915 - val_loss: 0.0814 - val_acc: 0.9815\n",
      "Epoch 36/500\n",
      "263/263 [==============================] - 32s 123ms/step - loss: 0.0270 - acc: 0.9917 - val_loss: 0.0741 - val_acc: 0.9805\n",
      "Epoch 37/500\n",
      "263/263 [==============================] - 34s 128ms/step - loss: 0.0254 - acc: 0.9921 - val_loss: 0.0853 - val_acc: 0.9801\n",
      "Epoch 38/500\n",
      "263/263 [==============================] - 33s 126ms/step - loss: 0.0243 - acc: 0.9919 - val_loss: 0.0786 - val_acc: 0.9811\n",
      "Epoch 39/500\n",
      "263/263 [==============================] - 34s 130ms/step - loss: 0.0269 - acc: 0.9913 - val_loss: 0.0886 - val_acc: 0.9790\n",
      "Epoch 40/500\n",
      "263/263 [==============================] - 34s 128ms/step - loss: 0.0277 - acc: 0.9908 - val_loss: 0.0838 - val_acc: 0.9818\n",
      "Epoch 41/500\n",
      "263/263 [==============================] - 34s 128ms/step - loss: 0.0251 - acc: 0.9917 - val_loss: 0.0734 - val_acc: 0.9818\n",
      "Epoch 42/500\n",
      "263/263 [==============================] - 35s 131ms/step - loss: 0.0265 - acc: 0.9915 - val_loss: 0.0781 - val_acc: 0.9826\n",
      "Epoch 43/500\n",
      "263/263 [==============================] - 33s 126ms/step - loss: 0.0258 - acc: 0.9921 - val_loss: 0.0825 - val_acc: 0.9810\n",
      "Epoch 44/500\n",
      "263/263 [==============================] - 33s 127ms/step - loss: 0.0231 - acc: 0.9929 - val_loss: 0.0840 - val_acc: 0.9815\n",
      "Epoch 45/500\n",
      "263/263 [==============================] - 34s 129ms/step - loss: 0.0213 - acc: 0.9932 - val_loss: 0.0889 - val_acc: 0.9821\n",
      "Epoch 46/500\n",
      "263/263 [==============================] - 33s 124ms/step - loss: 0.0217 - acc: 0.9930 - val_loss: 0.0795 - val_acc: 0.9835\n",
      "Epoch 47/500\n",
      "263/263 [==============================] - 34s 129ms/step - loss: 0.0240 - acc: 0.9918 - val_loss: 0.0780 - val_acc: 0.9829\n",
      "Epoch 48/500\n",
      "263/263 [==============================] - 34s 128ms/step - loss: 0.0231 - acc: 0.9929 - val_loss: 0.0821 - val_acc: 0.9813\n",
      "Epoch 49/500\n",
      "263/263 [==============================] - 33s 126ms/step - loss: 0.0181 - acc: 0.9940 - val_loss: 0.0845 - val_acc: 0.9823\n",
      "Epoch 50/500\n",
      "263/263 [==============================] - 34s 129ms/step - loss: 0.0231 - acc: 0.9928 - val_loss: 0.0877 - val_acc: 0.9814\n",
      "Epoch 51/500\n",
      "263/263 [==============================] - 33s 124ms/step - loss: 0.0229 - acc: 0.9918 - val_loss: 0.0774 - val_acc: 0.9832\n",
      "Epoch 52/500\n",
      "263/263 [==============================] - 34s 130ms/step - loss: 0.0182 - acc: 0.9945 - val_loss: 0.0784 - val_acc: 0.9831\n",
      "Epoch 53/500\n",
      "263/263 [==============================] - 33s 127ms/step - loss: 0.0192 - acc: 0.9936 - val_loss: 0.0875 - val_acc: 0.9824\n",
      "Epoch 54/500\n",
      "263/263 [==============================] - 32s 120ms/step - loss: 0.0223 - acc: 0.9932 - val_loss: 0.0844 - val_acc: 0.9808\n",
      "Epoch 55/500\n",
      "263/263 [==============================] - 26s 99ms/step - loss: 0.0223 - acc: 0.9924 - val_loss: 0.0777 - val_acc: 0.9829\n",
      "Epoch 56/500\n",
      "263/263 [==============================] - 25s 95ms/step - loss: 0.0174 - acc: 0.9944 - val_loss: 0.0814 - val_acc: 0.9827\n",
      "Epoch 57/500\n",
      "263/263 [==============================] - 25s 97ms/step - loss: 0.0179 - acc: 0.9944 - val_loss: 0.0833 - val_acc: 0.9812\n",
      "Epoch 58/500\n",
      "263/263 [==============================] - 32s 120ms/step - loss: 0.0194 - acc: 0.9938 - val_loss: 0.0948 - val_acc: 0.9799\n",
      "Epoch 59/500\n",
      "263/263 [==============================] - 31s 116ms/step - loss: 0.0177 - acc: 0.9941 - val_loss: 0.0966 - val_acc: 0.9799\n",
      "Epoch 60/500\n",
      "263/263 [==============================] - 32s 122ms/step - loss: 0.0183 - acc: 0.9940 - val_loss: 0.1033 - val_acc: 0.9805\n",
      "Epoch 61/500\n",
      "263/263 [==============================] - 33s 126ms/step - loss: 0.0188 - acc: 0.9938 - val_loss: 0.1014 - val_acc: 0.9827\n"
     ]
    }
   ],
   "source": [
    "history = model.fit(X_train, Y_train, \n",
    "                    validation_data=(X_val, Y_val), \n",
    "                    batch_size=32, \n",
    "                    epochs=500, \n",
    "                    verbose=1,\n",
    "                    callbacks=[early_stopping])"
   ]
  },
  {
   "cell_type": "code",
   "execution_count": null,
   "metadata": {},
   "outputs": [
    {
     "data": {
      "image/png": "[encoded data removed]",
      "text/plain": [
       "<Figure size 640x480 with 1 Axes>"
      ]
     },
     "metadata": {},
     "output_type": "display_data"
    }
   ],
   "source": [
    "history_df = pd.DataFrame(history.history)\n",
    "history_df.loc[:, ['loss', 'val_loss']].plot();"
   ]
  },
  {
   "cell_type": "code",
   "execution_count": null,
   "metadata": {},
   "outputs": [
    {
     "name": "stdout",
     "output_type": "stream",
     "text": [
      "Minimum validation loss: 0.07336311042308807\n"
     ]
    }
   ],
   "source": [
    "print(\"Minimum validation loss: {}\".format(history_df['val_loss'].min()))"
   ]
  },
  {
   "cell_type": "code",
   "execution_count": null,
   "metadata": {},
   "outputs": [],
   "source": []
  }
 ],
 "metadata": {
  "kernelspec": {
   "display_name": "Python 3.7.9",
   "language": "python",
   "name": "python3"
  },
  "language_info": {
   "codemirror_mode": {
    "name": "ipython",
    "version": 3
   },
   "file_extension": ".py",
   "mimetype": "text/x-python",
   "name": "python",
   "nbconvert_exporter": "python",
   "pygments_lexer": "ipython3",
   "version": "3.7.9"
  },
  "orig_nbformat": 4,
  "vscode": {
   "interpreter": {
    "hash": "5f932dbb8aaf7a86272078fc68e90ceb5d06f190c48adab6eb8a5b761846dbf8"
   }
  }
 },
 "nbformat": 4,
 "nbformat_minor": 2
}
