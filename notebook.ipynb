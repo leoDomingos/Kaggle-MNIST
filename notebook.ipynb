{
 "cells": [
  {
   "cell_type": "code",
   "execution_count": 9,
   "metadata": {},
   "outputs": [],
   "source": [
    "from tensorflow import keras\n",
    "from tensorflow.keras import layers\n",
    "from keras.utils import np_utils\n",
    "import tensorflow\n",
    "import pandas as pd\n",
    "from sklearn.model_selection import train_test_split\n",
    "from tensorflow.keras.callbacks import EarlyStopping\n",
    "tensorflow.config.run_functions_eagerly(True)"
   ]
  },
  {
   "cell_type": "code",
   "execution_count": 2,
   "metadata": {},
   "outputs": [],
   "source": [
    "train = pd.read_csv(\"./data/train.csv\")\n",
    "validation = pd.read_csv(\"./data/test.csv\")"
   ]
  },
  {
   "cell_type": "code",
   "execution_count": 3,
   "metadata": {},
   "outputs": [],
   "source": [
    "X = train.drop(\"label\", axis=1)\n",
    "y = train[\"label\"]\n",
    "\n",
    "X_train, X_val, y_train, y_val = train_test_split(X,y,random_state=1, train_size=0.8)"
   ]
  },
  {
   "cell_type": "code",
   "execution_count": 4,
   "metadata": {},
   "outputs": [],
   "source": [
    "Y_train = np_utils.to_categorical(y_train, 10)\n",
    "Y_val = np_utils.to_categorical(y_val, 10)"
   ]
  },
  {
   "cell_type": "code",
   "execution_count": 10,
   "metadata": {},
   "outputs": [],
   "source": [
    "from tensorflow.keras.layers import Dropout\n",
    "\n",
    "model = keras.Sequential([\n",
    "    layers.Dense(units=256, activation=\"relu\", input_shape=[len(X_train.columns)]),\n",
    "    layers.Dropout(rate=0.3),\n",
    "    layers.BatchNormalization(),\n",
    "    layers.Dense(units=256, activation=\"relu\"),\n",
    "    layers.Dropout(rate=0.3),\n",
    "    layers.BatchNormalization(),\n",
    "    layers.Dense(units=128, activation=\"relu\"),\n",
    "    layers.Dropout(rate=0.3),\n",
    "    layers.BatchNormalization(),\n",
    "    layers.Dense(units=128, activation=\"relu\"),\n",
    "    layers.Dropout(rate=0.3),\n",
    "    layers.BatchNormalization(),\n",
    "    layers.Dense(units=10, activation=\"softmax\")\n",
    "])\n",
    "model.compile(loss=\"categorical_crossentropy\", optimizer=\"adam\", metrics=[\"acc\"])"
   ]
  },
  {
   "cell_type": "code",
   "execution_count": 6,
   "metadata": {},
   "outputs": [],
   "source": [
    "early_stopping = EarlyStopping(\n",
    "    min_delta = 0.001,\n",
    "    patience = 20,\n",
    "    restore_best_weights=True\n",
    ")"
   ]
  },
  {
   "cell_type": "code",
   "execution_count": 7,
   "metadata": {},
   "outputs": [
    {
     "name": "stdout",
     "output_type": "stream",
     "text": [
      "Training X (33600, 784)\n",
      "Training Y (33600, 10)\n",
      "Validation X (8400, 784)\n",
      "Validation Y (8400, 10)\n"
     ]
    }
   ],
   "source": [
    "print(\"Training X\", X_train.shape)\n",
    "print(\"Training Y\", Y_train.shape)\n",
    "print(\"Validation X\", X_val.shape)\n",
    "print(\"Validation Y\", Y_val.shape)"
   ]
  },
  {
   "cell_type": "code",
   "execution_count": 11,
   "metadata": {},
   "outputs": [
    {
     "name": "stderr",
     "output_type": "stream",
     "text": [
      "c:\\dev\\computer_vision\\env\\lib\\site-packages\\tensorflow\\python\\data\\ops\\dataset_ops.py:4527: UserWarning: Even though the `tf.config.experimental_run_functions_eagerly` option is set, this option does not apply to tf.data functions. To force eager execution of tf.data functions, please use `tf.data.experimental.enable_debug_mode()`.\n",
      "  \"Even though the `tf.config.experimental_run_functions_eagerly` \"\n"
     ]
    },
    {
     "name": "stdout",
     "output_type": "stream",
     "text": [
      "Epoch 1/500\n",
      "525/525 [==============================] - ETA: 0s - loss: 0.6802 - acc: 0.7887"
     ]
    },
    {
     "name": "stderr",
     "output_type": "stream",
     "text": [
      "c:\\dev\\computer_vision\\env\\lib\\site-packages\\tensorflow\\python\\data\\ops\\dataset_ops.py:4527: UserWarning: Even though the `tf.config.experimental_run_functions_eagerly` option is set, this option does not apply to tf.data functions. To force eager execution of tf.data functions, please use `tf.data.experimental.enable_debug_mode()`.\n",
      "  \"Even though the `tf.config.experimental_run_functions_eagerly` \"\n"
     ]
    },
    {
     "name": "stdout",
     "output_type": "stream",
     "text": [
      "525/525 [==============================] - 28s 53ms/step - loss: 0.6802 - acc: 0.7887 - val_loss: 0.1836 - val_acc: 0.9413\n",
      "Epoch 2/500\n",
      "525/525 [==============================] - 25s 47ms/step - loss: 0.2996 - acc: 0.9126 - val_loss: 0.1312 - val_acc: 0.9581\n",
      "Epoch 3/500\n",
      "525/525 [==============================] - 26s 49ms/step - loss: 0.2392 - acc: 0.9283 - val_loss: 0.1175 - val_acc: 0.9635\n",
      "Epoch 4/500\n",
      "525/525 [==============================] - 25s 48ms/step - loss: 0.2073 - acc: 0.9393 - val_loss: 0.1073 - val_acc: 0.9675\n",
      "Epoch 5/500\n",
      "525/525 [==============================] - 26s 50ms/step - loss: 0.1839 - acc: 0.9461 - val_loss: 0.1058 - val_acc: 0.9679\n",
      "Epoch 6/500\n",
      "525/525 [==============================] - 25s 47ms/step - loss: 0.1635 - acc: 0.9513 - val_loss: 0.1025 - val_acc: 0.9677\n",
      "Epoch 7/500\n",
      "525/525 [==============================] - 25s 47ms/step - loss: 0.1559 - acc: 0.9545 - val_loss: 0.1014 - val_acc: 0.9681\n",
      "Epoch 8/500\n",
      "525/525 [==============================] - 27s 51ms/step - loss: 0.1374 - acc: 0.9584 - val_loss: 0.0878 - val_acc: 0.9730\n",
      "Epoch 9/500\n",
      "525/525 [==============================] - 26s 50ms/step - loss: 0.1330 - acc: 0.9600 - val_loss: 0.0858 - val_acc: 0.9743\n",
      "Epoch 10/500\n",
      "525/525 [==============================] - 26s 49ms/step - loss: 0.1268 - acc: 0.9621 - val_loss: 0.0944 - val_acc: 0.9733\n",
      "Epoch 11/500\n",
      "525/525 [==============================] - 26s 50ms/step - loss: 0.1164 - acc: 0.9646 - val_loss: 0.0832 - val_acc: 0.9758\n",
      "Epoch 12/500\n",
      "525/525 [==============================] - 26s 50ms/step - loss: 0.1099 - acc: 0.9677 - val_loss: 0.0881 - val_acc: 0.9740\n",
      "Epoch 13/500\n",
      "525/525 [==============================] - 27s 51ms/step - loss: 0.1119 - acc: 0.9670 - val_loss: 0.0901 - val_acc: 0.9756\n",
      "Epoch 14/500\n",
      "525/525 [==============================] - 26s 49ms/step - loss: 0.1037 - acc: 0.9690 - val_loss: 0.0886 - val_acc: 0.9750\n",
      "Epoch 15/500\n",
      "525/525 [==============================] - 26s 49ms/step - loss: 0.1041 - acc: 0.9684 - val_loss: 0.0902 - val_acc: 0.9757\n",
      "Epoch 16/500\n",
      "525/525 [==============================] - 26s 49ms/step - loss: 0.0983 - acc: 0.9708 - val_loss: 0.0839 - val_acc: 0.9773\n",
      "Epoch 17/500\n",
      "525/525 [==============================] - 27s 51ms/step - loss: 0.0905 - acc: 0.9729 - val_loss: 0.0829 - val_acc: 0.9756\n",
      "Epoch 18/500\n",
      "525/525 [==============================] - 26s 50ms/step - loss: 0.0870 - acc: 0.9727 - val_loss: 0.0776 - val_acc: 0.9771\n",
      "Epoch 19/500\n",
      "525/525 [==============================] - 26s 49ms/step - loss: 0.0903 - acc: 0.9723 - val_loss: 0.0822 - val_acc: 0.9768\n",
      "Epoch 20/500\n",
      "525/525 [==============================] - 26s 49ms/step - loss: 0.0849 - acc: 0.9737 - val_loss: 0.0732 - val_acc: 0.9781\n",
      "Epoch 21/500\n",
      "525/525 [==============================] - 26s 49ms/step - loss: 0.0817 - acc: 0.9754 - val_loss: 0.0789 - val_acc: 0.9785\n",
      "Epoch 22/500\n",
      "525/525 [==============================] - 26s 49ms/step - loss: 0.0779 - acc: 0.9771 - val_loss: 0.0811 - val_acc: 0.9755\n",
      "Epoch 23/500\n",
      "525/525 [==============================] - 26s 49ms/step - loss: 0.0746 - acc: 0.9775 - val_loss: 0.0713 - val_acc: 0.9800\n",
      "Epoch 24/500\n",
      "525/525 [==============================] - 26s 49ms/step - loss: 0.0739 - acc: 0.9775 - val_loss: 0.0735 - val_acc: 0.9815\n",
      "Epoch 25/500\n",
      "525/525 [==============================] - 26s 49ms/step - loss: 0.0724 - acc: 0.9783 - val_loss: 0.0725 - val_acc: 0.9801\n",
      "Epoch 26/500\n",
      "525/525 [==============================] - 26s 49ms/step - loss: 0.0730 - acc: 0.9779 - val_loss: 0.0699 - val_acc: 0.9792\n",
      "Epoch 27/500\n",
      "525/525 [==============================] - 27s 51ms/step - loss: 0.0661 - acc: 0.9802 - val_loss: 0.0798 - val_acc: 0.9794\n",
      "Epoch 28/500\n",
      "525/525 [==============================] - 26s 49ms/step - loss: 0.0663 - acc: 0.9792 - val_loss: 0.0808 - val_acc: 0.9775\n",
      "Epoch 29/500\n",
      "525/525 [==============================] - 26s 50ms/step - loss: 0.0633 - acc: 0.9812 - val_loss: 0.0780 - val_acc: 0.9794\n",
      "Epoch 30/500\n",
      "525/525 [==============================] - 26s 50ms/step - loss: 0.0613 - acc: 0.9814 - val_loss: 0.0745 - val_acc: 0.9802\n",
      "Epoch 31/500\n",
      "525/525 [==============================] - 26s 49ms/step - loss: 0.0658 - acc: 0.9801 - val_loss: 0.0751 - val_acc: 0.9799\n",
      "Epoch 32/500\n",
      "525/525 [==============================] - 26s 49ms/step - loss: 0.0605 - acc: 0.9817 - val_loss: 0.0998 - val_acc: 0.9793\n",
      "Epoch 33/500\n",
      "525/525 [==============================] - 26s 49ms/step - loss: 0.0588 - acc: 0.9819 - val_loss: 0.0833 - val_acc: 0.9796\n",
      "Epoch 34/500\n",
      "525/525 [==============================] - 26s 49ms/step - loss: 0.0577 - acc: 0.9825 - val_loss: 0.0751 - val_acc: 0.9814\n",
      "Epoch 35/500\n",
      "525/525 [==============================] - 26s 50ms/step - loss: 0.0569 - acc: 0.9827 - val_loss: 0.0728 - val_acc: 0.9804\n",
      "Epoch 36/500\n",
      "525/525 [==============================] - 26s 49ms/step - loss: 0.0559 - acc: 0.9828 - val_loss: 0.0948 - val_acc: 0.9801\n",
      "Epoch 37/500\n",
      "525/525 [==============================] - 26s 49ms/step - loss: 0.0534 - acc: 0.9837 - val_loss: 0.0788 - val_acc: 0.9807\n",
      "Epoch 38/500\n",
      "525/525 [==============================] - 27s 51ms/step - loss: 0.0553 - acc: 0.9829 - val_loss: 0.0818 - val_acc: 0.9790\n",
      "Epoch 39/500\n",
      "525/525 [==============================] - 28s 54ms/step - loss: 0.0560 - acc: 0.9826 - val_loss: 0.0843 - val_acc: 0.9777\n",
      "Epoch 40/500\n",
      "525/525 [==============================] - 26s 50ms/step - loss: 0.0556 - acc: 0.9829 - val_loss: 0.0754 - val_acc: 0.9796\n",
      "Epoch 41/500\n",
      "525/525 [==============================] - 27s 51ms/step - loss: 0.0511 - acc: 0.9844 - val_loss: 0.0800 - val_acc: 0.9786\n",
      "Epoch 42/500\n",
      "525/525 [==============================] - 26s 50ms/step - loss: 0.0452 - acc: 0.9858 - val_loss: 0.0791 - val_acc: 0.9796\n",
      "Epoch 43/500\n",
      "525/525 [==============================] - 26s 50ms/step - loss: 0.0497 - acc: 0.9853 - val_loss: 0.0779 - val_acc: 0.9801\n",
      "Epoch 44/500\n",
      "525/525 [==============================] - 26s 50ms/step - loss: 0.0475 - acc: 0.9854 - val_loss: 0.0757 - val_acc: 0.9804\n",
      "Epoch 45/500\n",
      "525/525 [==============================] - 26s 49ms/step - loss: 0.0493 - acc: 0.9854 - val_loss: 0.0736 - val_acc: 0.9796\n",
      "Epoch 46/500\n",
      "525/525 [==============================] - 26s 49ms/step - loss: 0.0497 - acc: 0.9854 - val_loss: 0.0727 - val_acc: 0.9810\n"
     ]
    }
   ],
   "source": [
    "history = model.fit(X_train, Y_train, \n",
    "                    validation_data=(X_val, Y_val), \n",
    "                    batch_size=64, \n",
    "                    epochs=500, \n",
    "                    verbose=1,\n",
    "                    callbacks=[early_stopping])"
   ]
  },
  {
   "cell_type": "code",
   "execution_count": 12,
   "metadata": {},
   "outputs": [
    {
     "data": {
      "image/png": "[encoded data removed]",
      "text/plain": [
       "<Figure size 640x480 with 1 Axes>"
      ]
     },
     "metadata": {},
     "output_type": "display_data"
    }
   ],
   "source": [
    "history_df = pd.DataFrame(history.history)\n",
    "history_df.loc[:, ['loss', 'val_loss']].plot();"
   ]
  },
  {
   "cell_type": "code",
   "execution_count": 13,
   "metadata": {},
   "outputs": [
    {
     "name": "stdout",
     "output_type": "stream",
     "text": [
      "Minimum validation loss: 0.06988386064767838\n"
     ]
    }
   ],
   "source": [
    "print(\"Minimum validation loss: {}\".format(history_df['val_loss'].min()))"
   ]
  },
  {
   "cell_type": "code",
   "execution_count": null,
   "metadata": {},
   "outputs": [],
   "source": []
  }
 ],
 "metadata": {
  "kernelspec": {
   "display_name": "Python 3.7.9",
   "language": "python",
   "name": "python3"
  },
  "language_info": {
   "codemirror_mode": {
    "name": "ipython",
    "version": 3
   },
   "file_extension": ".py",
   "mimetype": "text/x-python",
   "name": "python",
   "nbconvert_exporter": "python",
   "pygments_lexer": "ipython3",
   "version": "3.7.9"
  },
  "orig_nbformat": 4,
  "vscode": {
   "interpreter": {
    "hash": "5f932dbb8aaf7a86272078fc68e90ceb5d06f190c48adab6eb8a5b761846dbf8"
   }
  }
 },
 "nbformat": 4,
 "nbformat_minor": 2
}
